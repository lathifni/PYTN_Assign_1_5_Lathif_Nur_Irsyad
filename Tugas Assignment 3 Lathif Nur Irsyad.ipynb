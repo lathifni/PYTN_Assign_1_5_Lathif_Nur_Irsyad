{
 "cells": [
  {
   "cell_type": "raw",
   "id": "5453e683-977b-46fb-b61b-2de4ec3ad596",
   "metadata": {},
   "source": [
    "TUGAS ASSINGNMENT 3"
   ]
  },
  {
   "cell_type": "code",
   "execution_count": 12,
   "id": "b731f33f-408c-4b5c-8b56-e1ae553d9ec6",
   "metadata": {},
   "outputs": [
    {
     "data": {
      "text/plain": [
       "8"
      ]
     },
     "execution_count": 12,
     "metadata": {},
     "output_type": "execute_result"
    }
   ],
   "source": [
    "import numpy as np\n",
    "import pandas as pd\n",
    "\n",
    "def jangkauan(arr):\n",
    "    if len(arr) == 0:\n",
    "        return None\n",
    "    jangkauan = np.max(arr) - np.min(arr)\n",
    "    return jangkauan\n",
    "\n",
    "array = [1,3,5,9]\n",
    "jangkauan(array)"
   ]
  },
  {
   "cell_type": "code",
   "execution_count": 19,
   "id": "7f8e8b5e-9056-4303-891c-bb6169d5c526",
   "metadata": {},
   "outputs": [
    {
     "data": {
      "text/plain": [
       "1.75"
      ]
     },
     "execution_count": 19,
     "metadata": {},
     "output_type": "execute_result"
    }
   ],
   "source": [
    "def quartil(arr):\n",
    "    if len(arr) == 0:\n",
    "        return None\n",
    "    quartile = 1/2 * (np.quantile(arr, 0.75) - np.quantile(arr, 0.25))\n",
    "    return quartile\n",
    "    \n",
    "array = [1,3,5,9]\n",
    "quartil(array)"
   ]
  },
  {
   "cell_type": "code",
   "execution_count": 28,
   "id": "74d8773e-9b62-42f2-89cb-b3139184d0e2",
   "metadata": {},
   "outputs": [
    {
     "data": {
      "text/plain": [
       "1.2909944487358056"
      ]
     },
     "execution_count": 28,
     "metadata": {},
     "output_type": "execute_result"
    }
   ],
   "source": [
    "def simpangan_baku(arr):\n",
    "    if len(arr) == 0:\n",
    "        return None\n",
    "    n = np.size(arr)\n",
    "    rataan = np.mean(arr)\n",
    "    simpangan_baku = np.sqrt(np.sum(np.fromiter(arr-rataan, dtype=float)**2)/n)\n",
    "    return simpangan_baku\n",
    "\n",
    "array = [9,10,8,7,8,6]\n",
    "simpangan_baku(array)"
   ]
  },
  {
   "cell_type": "code",
   "execution_count": 45,
   "id": "6f88179e-4269-4da4-aaf8-7fa703a95f3d",
   "metadata": {},
   "outputs": [
    {
     "data": {
      "text/plain": [
       "57.0"
      ]
     },
     "execution_count": 45,
     "metadata": {},
     "output_type": "execute_result"
    }
   ],
   "source": [
    "def simpangan_rata2(arr):\n",
    "    if len(arr) == 0:\n",
    "        return None\n",
    "    n = np.size(arr)\n",
    "    rataan = np.mean(arr)\n",
    "    simpangan_rata2 = np.sum(np.abs(np.fromiter(arr-rataan, dtype=float)))/n\n",
    "    return simpangan_rata2\n",
    "\n",
    "array = [117,123,5,7]\n",
    "simpangan_rata2(array)"
   ]
  },
  {
   "cell_type": "code",
   "execution_count": 46,
   "id": "7435af70-bd6c-42df-8680-050362ee7aad",
   "metadata": {},
   "outputs": [
    {
     "data": {
      "text/plain": [
       "1.6666666666666667"
      ]
     },
     "execution_count": 46,
     "metadata": {},
     "output_type": "execute_result"
    }
   ],
   "source": [
    "def ragam(arr):\n",
    "    if len(arr) == 0:\n",
    "        return None\n",
    "    n = np.size(arr)\n",
    "    rataan = np.mean(arr)\n",
    "    ragam = np.sum(np.fromiter(arr-rataan, dtype=float)**2)/n\n",
    "    return ragam\n",
    "\n",
    "array = [9,10,8,7,8,6]\n",
    "ragam(array)"
   ]
  },
  {
   "cell_type": "code",
   "execution_count": null,
   "id": "e2b6609b-e4dd-4ae9-8602-2c2009eccca9",
   "metadata": {},
   "outputs": [],
   "source": []
  }
 ],
 "metadata": {
  "kernelspec": {
   "display_name": "Python 3 (ipykernel)",
   "language": "python",
   "name": "python3"
  },
  "language_info": {
   "codemirror_mode": {
    "name": "ipython",
    "version": 3
   },
   "file_extension": ".py",
   "mimetype": "text/x-python",
   "name": "python",
   "nbconvert_exporter": "python",
   "pygments_lexer": "ipython3",
   "version": "3.11.5"
  }
 },
 "nbformat": 4,
 "nbformat_minor": 5
}
